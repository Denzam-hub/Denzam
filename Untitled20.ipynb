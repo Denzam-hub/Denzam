{
  "nbformat": 4,
  "nbformat_minor": 0,
  "metadata": {
    "colab": {
      "provenance": [],
      "authorship_tag": "ABX9TyPcs8NuQRWH1ae0eWG+qPdB",
      "include_colab_link": true
    },
    "kernelspec": {
      "name": "python3",
      "display_name": "Python 3"
    },
    "language_info": {
      "name": "python"
    }
  },
  "cells": [
    {
      "cell_type": "markdown",
      "metadata": {
        "id": "view-in-github",
        "colab_type": "text"
      },
      "source": [
        "<a href=\"https://colab.research.google.com/github/Denzam-hub/Denzam/blob/master/Untitled20.ipynb\" target=\"_parent\"><img src=\"https://colab.research.google.com/assets/colab-badge.svg\" alt=\"Open In Colab\"/></a>"
      ]
    },
    {
      "cell_type": "code",
      "source": [
        "!pip install python_deriv_api"
      ],
      "metadata": {
        "colab": {
          "base_uri": "https://localhost:8080/"
        },
        "id": "3JOW47W2myFq",
        "outputId": "e4f747f2-701f-48e9-8b30-bbc9dbb100d3"
      },
      "execution_count": 1,
      "outputs": [
        {
          "output_type": "stream",
          "name": "stdout",
          "text": [
            "Collecting python_deriv_api\n",
            "  Downloading python_deriv_api-0.1.6-py3-none-any.whl.metadata (3.6 kB)\n",
            "Collecting websockets==10.3 (from python_deriv_api)\n",
            "  Downloading websockets-10.3-cp310-cp310-manylinux_2_5_x86_64.manylinux1_x86_64.manylinux_2_12_x86_64.manylinux2010_x86_64.whl.metadata (6.3 kB)\n",
            "Collecting reactivex==4.0.* (from python_deriv_api)\n",
            "  Downloading reactivex-4.0.4-py3-none-any.whl.metadata (5.5 kB)\n",
            "Requirement already satisfied: typing-extensions<5.0.0,>=4.1.1 in /usr/local/lib/python3.10/dist-packages (from reactivex==4.0.*->python_deriv_api) (4.12.2)\n",
            "Downloading python_deriv_api-0.1.6-py3-none-any.whl (40 kB)\n",
            "\u001b[2K   \u001b[90m━━━━━━━━━━━━━━━━━━━━━━━━━━━━━━━━━━━━━━━━\u001b[0m \u001b[32m40.8/40.8 kB\u001b[0m \u001b[31m1.5 MB/s\u001b[0m eta \u001b[36m0:00:00\u001b[0m\n",
            "\u001b[?25hDownloading reactivex-4.0.4-py3-none-any.whl (217 kB)\n",
            "\u001b[2K   \u001b[90m━━━━━━━━━━━━━━━━━━━━━━━━━━━━━━━━━━━━━━━━\u001b[0m \u001b[32m217.8/217.8 kB\u001b[0m \u001b[31m4.9 MB/s\u001b[0m eta \u001b[36m0:00:00\u001b[0m\n",
            "\u001b[?25hDownloading websockets-10.3-cp310-cp310-manylinux_2_5_x86_64.manylinux1_x86_64.manylinux_2_12_x86_64.manylinux2010_x86_64.whl (111 kB)\n",
            "\u001b[2K   \u001b[90m━━━━━━━━━━━━━━━━━━━━━━━━━━━━━━━━━━━━━━━━\u001b[0m \u001b[32m111.5/111.5 kB\u001b[0m \u001b[31m8.4 MB/s\u001b[0m eta \u001b[36m0:00:00\u001b[0m\n",
            "\u001b[?25hInstalling collected packages: websockets, reactivex, python_deriv_api\n",
            "Successfully installed python_deriv_api-0.1.6 reactivex-4.0.4 websockets-10.3\n"
          ]
        }
      ]
    },
    {
      "cell_type": "code",
      "execution_count": 2,
      "metadata": {
        "colab": {
          "base_uri": "https://localhost:8080/"
        },
        "id": "tJAjkUmwmRXo",
        "outputId": "36e5493b-a767-455d-b64b-f9785dbe7a1e"
      },
      "outputs": [
        {
          "output_type": "stream",
          "name": "stderr",
          "text": [
            "ERROR:asyncio:Task exception was never retrieved\n",
            "future: <Task finished name='Task-1' coro=<main() done, defined at <ipython-input-2-95f03b684aa9>:103> exception=ConstructionError('An app_id is required to connect to the API')>\n",
            "Traceback (most recent call last):\n",
            "  File \"<ipython-input-2-95f03b684aa9>\", line 105, in main\n",
            "    bot = TradingBot(symbol='R_25', interval=60, count=100, trade_amount=10, api_token='y0UbTW2GdoWtnBz')\n",
            "  File \"<ipython-input-2-95f03b684aa9>\", line 11, in __init__\n",
            "    self.deriv_api = DerivAPI()\n",
            "  File \"/usr/local/lib/python3.10/dist-packages/deriv_api/deriv_api.py\", line 103, in __init__\n",
            "    raise ConstructionError('An app_id is required to connect to the API')\n",
            "deriv_api.errors.ConstructionError: ConstructionError:An app_id is required to connect to the API\n"
          ]
        }
      ],
      "source": [
        "import asyncio\n",
        "import logging\n",
        "from deriv_api import DerivAPI\n",
        "\n",
        "# Set up logging\n",
        "logging.basicConfig(level=logging.INFO)\n",
        "logger = logging.getLogger(__name__)\n",
        "\n",
        "class TradingBot:\n",
        "    def __init__(self, symbol, interval, count, trade_amount, api_token):\n",
        "        self.deriv_api = DerivAPI()\n",
        "        self.symbol = symbol\n",
        "        self.interval = interval\n",
        "        self.count = count\n",
        "        self.trade_amount = trade_amount\n",
        "        self.current_position = None\n",
        "        self.api_token = api_token\n",
        "\n",
        "    async def connect(self):\n",
        "        if not await self.deriv_api.connect():\n",
        "            logger.error(\"Failed to connect to Deriv API.\")\n",
        "            return False\n",
        "\n",
        "        # Authenticate to the account using the API token\n",
        "        auth_response = await self.deriv_api.authorize({'authorize': self.api_token})\n",
        "        if 'error' in auth_response:\n",
        "            logger.error(f\"Authorization error: {auth_response['error']}\")\n",
        "            return False\n",
        "\n",
        "        logger.info(\"Successfully connected and authorized to the account.\")\n",
        "        return True\n",
        "\n",
        "    async def get_account_balance(self):\n",
        "        balance = await self.deriv_api.balance()\n",
        "        logger.info(f\"Account Balance: {balance}\")\n",
        "\n",
        "    async def get_candles(self):\n",
        "        candles = await self.deriv_api.get_candles(self.symbol, self.interval, self.count)\n",
        "        if candles is not None:\n",
        "            return candles\n",
        "        else:\n",
        "            logger.error(\"Failed to retrieve candle data.\")\n",
        "            return None\n",
        "\n",
        "    async def trading_strategy(self, df):\n",
        "        # Implement your trading strategy logic here\n",
        "        if df['RSI'].iloc[-1] < 30:  # Buy signal\n",
        "            return 'BUY'\n",
        "        elif df['RSI'].iloc[-1] > 70:  # Sell signal\n",
        "            return 'SELL'\n",
        "        return 'HOLD'\n",
        "\n",
        "    async def place_trade(self, signal):\n",
        "        contract_type = 'CALL' if signal == 'BUY' else 'PUT'\n",
        "        logger.info(f\"Placing {signal} trade...\")\n",
        "        proposal = await self.deriv_api.proposal({\n",
        "            \"proposal\": 1,\n",
        "            \"amount\": self.trade_amount,\n",
        "            \"barrier\": \"+0.1\",\n",
        "            \"basis\": \"payout\",\n",
        "            \"contract_type\": contract_type,\n",
        "            \"currency\": \"USD\",\n",
        "            \"duration\": 60,\n",
        "            \"duration_unit\": \"s\",\n",
        "            \"symbol\": self.symbol\n",
        "        })\n",
        "\n",
        "        if 'error' in proposal:\n",
        "            logger.error(f\"Error placing trade: {proposal['error']}\")\n",
        "        else:\n",
        "            buy_response = await self.deriv_api.buy({\"buy\": proposal['proposal']['id'], \"price\": self.trade_amount})\n",
        "            self.current_position = buy_response.get('buy', {}).get('contract_id')\n",
        "            logger.info(f\"Trade placed: {buy_response}\")\n",
        "\n",
        "    async def close_trade(self):\n",
        "        if self.current_position:\n",
        "            sell_response = await self.deriv_api.sell({\"sell\": self.current_position, \"price\": self.trade_amount})\n",
        "            logger.info(f\"Trade closed: {sell_response}\")\n",
        "            self.current_position = None\n",
        "\n",
        "    async def run(self):\n",
        "        await self.get_account_balance()\n",
        "        while True:\n",
        "            try:\n",
        "                candles = await self.get_candles()\n",
        "                if candles is not None:\n",
        "                    df = calculate_indicators(candles)  # Assuming calculate_indicators is defined\n",
        "                    signal = await self.trading_strategy(df)\n",
        "\n",
        "                    logger.info(f\"Current signal: {signal}\")\n",
        "                    logger.info(f\"Current position: {self.current_position}\")\n",
        "\n",
        "                    if signal in ['BUY', 'SELL'] and self.current_position is None:\n",
        "                        await self.place_trade(signal)\n",
        "                    elif signal == 'CLOSE' and self.current_position is not None:\n",
        "                        await self.close_trade()\n",
        "\n",
        "                await asyncio.sleep(60)  # Wait for a minute before the next iteration\n",
        "\n",
        "            except Exception as e:\n",
        "                logger.error(f\"An error occurred: {e}\")\n",
        "\n",
        "async def main():\n",
        "    # Replace 'YOUR_API_TOKEN' with your actual API token\n",
        "    bot = TradingBot(symbol='R_25', interval=60, count=100, trade_amount=10, api_token='y0UbTW2GdoWtnBz')\n",
        "    if await bot.connect():\n",
        "        await bot.run()\n",
        "\n",
        "# Schedule the main coroutine in the existing event loop\n",
        "if __name__ == \"__main__\":\n",
        "    # If you're running this script in a Jupyter notebook\n",
        "    try:\n",
        "        asyncio.get_running_loop().create_task(main())\n",
        "    except RuntimeError:\n",
        "        # If no event loop is running, run the main function directly\n",
        "        asyncio.run(main())\n"
      ]
    }
  ]
}